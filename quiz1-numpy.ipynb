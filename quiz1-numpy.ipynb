{
 "cells": [
  {
   "cell_type": "markdown",
   "id": "0084b19e",
   "metadata": {},
   "source": [
    "Ria Ann De la Cruz </br>\n",
    "BS in Computer Science IV"
   ]
  },
  {
   "cell_type": "code",
   "execution_count": 2,
   "id": "3b79fa3f",
   "metadata": {},
   "outputs": [
    {
     "name": "stdout",
     "output_type": "stream",
     "text": [
      "Populating the interactive namespace from numpy and matplotlib\n"
     ]
    }
   ],
   "source": [
    "%pylab inline"
   ]
  },
  {
   "cell_type": "markdown",
   "id": "c6bdad2e",
   "metadata": {},
   "source": [
    "Part 1:\n",
    "* Create 2 2D arrays, y_hat and y\n",
    "* Initialize y_hat with 20 linearly spaced numbers between -1 and 1"
   ]
  },
  {
   "cell_type": "code",
   "execution_count": 4,
   "id": "918d94d5",
   "metadata": {},
   "outputs": [
    {
     "data": {
      "text/plain": [
       "array([-1.        , -0.89473684, -0.78947368, -0.68421053, -0.57894737,\n",
       "       -0.47368421, -0.36842105, -0.26315789, -0.15789474, -0.05263158,\n",
       "        0.05263158,  0.15789474,  0.26315789,  0.36842105,  0.47368421,\n",
       "        0.57894737,  0.68421053,  0.78947368,  0.89473684,  1.        ])"
      ]
     },
     "execution_count": 4,
     "metadata": {},
     "output_type": "execute_result"
    }
   ],
   "source": [
    "y_hat = np.linspace(-1, 1, 20) #creating a 1D array name y_hat with 20 numbers between -1 and 1\n",
    "y_hat"
   ]
  },
  {
   "cell_type": "markdown",
   "id": "7e2d0c53",
   "metadata": {},
   "source": [
    "* Initialize y with 20 linearly spaced numbers between 0 and 1"
   ]
  },
  {
   "cell_type": "code",
   "execution_count": 5,
   "id": "faada1bc",
   "metadata": {},
   "outputs": [
    {
     "data": {
      "text/plain": [
       "array([0.        , 0.05263158, 0.10526316, 0.15789474, 0.21052632,\n",
       "       0.26315789, 0.31578947, 0.36842105, 0.42105263, 0.47368421,\n",
       "       0.52631579, 0.57894737, 0.63157895, 0.68421053, 0.73684211,\n",
       "       0.78947368, 0.84210526, 0.89473684, 0.94736842, 1.        ])"
      ]
     },
     "execution_count": 5,
     "metadata": {},
     "output_type": "execute_result"
    }
   ],
   "source": [
    "y = np.linspace(0, 1, 20) #creating a 1D array name y with 20 numbers between 0 and 1\n",
    "y"
   ]
  },
  {
   "cell_type": "markdown",
   "id": "66db2ec8",
   "metadata": {},
   "source": [
    "* Compute for the shape and dimension of y_hat and y"
   ]
  },
  {
   "cell_type": "code",
   "execution_count": 8,
   "id": "78e47898",
   "metadata": {},
   "outputs": [
    {
     "data": {
      "text/plain": [
       "(20,)"
      ]
     },
     "execution_count": 8,
     "metadata": {},
     "output_type": "execute_result"
    }
   ],
   "source": [
    "y_hat.shape #to check for the shape of variable y_hat"
   ]
  },
  {
   "cell_type": "code",
   "execution_count": 9,
   "id": "c15febba",
   "metadata": {},
   "outputs": [
    {
     "data": {
      "text/plain": [
       "1"
      ]
     },
     "execution_count": 9,
     "metadata": {},
     "output_type": "execute_result"
    }
   ],
   "source": [
    "y_hat.ndim #to check for the number of dimension of the variable y_hat"
   ]
  },
  {
   "cell_type": "code",
   "execution_count": 10,
   "id": "e6e17789",
   "metadata": {},
   "outputs": [
    {
     "data": {
      "text/plain": [
       "(20,)"
      ]
     },
     "execution_count": 10,
     "metadata": {},
     "output_type": "execute_result"
    }
   ],
   "source": [
    "y.shape #to check for the shape of the variable y"
   ]
  },
  {
   "cell_type": "code",
   "execution_count": 28,
   "id": "5200ea5f",
   "metadata": {},
   "outputs": [
    {
     "data": {
      "text/plain": [
       "1"
      ]
     },
     "execution_count": 28,
     "metadata": {},
     "output_type": "execute_result"
    }
   ],
   "source": [
    "y.ndim #to check for the number of dimension of variable y"
   ]
  },
  {
   "cell_type": "markdown",
   "id": "99bd1454",
   "metadata": {},
   "source": [
    "Create individual functions for each of the loss functions with y and </br>\n",
    "y_hat as parameters and each function should return the loss value (L).\n",
    "\n",
    "Using the given formula where N = the number of observation."
   ]
  },
  {
   "cell_type": "code",
   "execution_count": 100,
   "id": "c8ccd959",
   "metadata": {},
   "outputs": [],
   "source": [
    "#Getting the value of N\n",
    "n = len(y_hat)            "
   ]
  },
  {
   "cell_type": "markdown",
   "id": "19ee9132",
   "metadata": {},
   "source": [
    "Creating a function for the mean squared error L = 1/N [sum of ((y_hat-y)**2)]\n",
    "* np.sum = overall sum of the array"
   ]
  },
  {
   "cell_type": "code",
   "execution_count": 104,
   "id": "f82eebf8",
   "metadata": {},
   "outputs": [
    {
     "data": {
      "text/plain": [
       "0.3421052631578948"
      ]
     },
     "execution_count": 104,
     "metadata": {},
     "output_type": "execute_result"
    }
   ],
   "source": [
    "def MSE(y_hat,y):\n",
    "    return 1/n*(np.sum((y_hat-y)**2))  \n",
    "MSE(y_hat, y)"
   ]
  },
  {
   "cell_type": "markdown",
   "id": "377e335a",
   "metadata": {},
   "source": [
    "Creating a function for the Mean Absolute Error L = 1/N [sum of (abs(y_hat-y))]\n",
    "* np.sum = overall sum of the array\n",
    "* np.abs = getting the absolute value of each element in array"
   ]
  },
  {
   "cell_type": "code",
   "execution_count": 105,
   "id": "9c238a72",
   "metadata": {},
   "outputs": [
    {
     "data": {
      "text/plain": [
       "0.49999999999999994"
      ]
     },
     "execution_count": 105,
     "metadata": {},
     "output_type": "execute_result"
    }
   ],
   "source": [
    "def MAE(y_hat,y):\n",
    "    return 1/n*(np.sum(np.abs(y_hat-y)))\n",
    "MAE(y_hat,y)"
   ]
  },
  {
   "cell_type": "markdown",
   "id": "e27f4982",
   "metadata": {},
   "source": [
    "Creating a function for the Mean Absolute Error L = 1/N [sum of (log(y_hat+1)- log(y+1)**2)]\n",
    "* np.sum = overall sum of the array\n",
    "* np.log = getting the logarithmic value of each number in array"
   ]
  },
  {
   "cell_type": "code",
   "execution_count": 134,
   "id": "30444dfb",
   "metadata": {},
   "outputs": [
    {
     "data": {
      "text/plain": [
       "'There is a negative number in array'"
      ]
     },
     "execution_count": 134,
     "metadata": {},
     "output_type": "execute_result"
    }
   ],
   "source": [
    "\n",
    "def MSLE(y_hat,y):\n",
    "    #Created an if-else statement to check whether there is a negative number present or not.\n",
    "    if y_hat[0]>-1 and y[0]>-1:\n",
    "        result = 1/n*(np.sum((np.log(y_hat+1)- np.log(y+1))**2))\n",
    "    else:\n",
    "        result = \"There is a negative number in array\"\n",
    "    return(result)\n",
    "MSLE(y_hat,y)"
   ]
  },
  {
   "attachments": {},
   "cell_type": "markdown",
   "id": "ef4581d3",
   "metadata": {},
   "source": [
    "Creating a function for the Mean Absolute Percentage Error\n",
    "* np.sum = overall sum of the array\n",
    "* np.abs = getting the absolute value of each number in array"
   ]
  },
  {
   "cell_type": "code",
   "execution_count": 140,
   "id": "91806010",
   "metadata": {},
   "outputs": [
    {
     "name": "stderr",
     "output_type": "stream",
     "text": [
      "C:\\Users\\delac\\AppData\\Local\\Temp/ipykernel_15812/1096568994.py:2: RuntimeWarning: divide by zero encountered in true_divide\n",
      "  result = 1/n*(np.sum(np.abs((y_hat-y)/y)))\n"
     ]
    },
    {
     "data": {
      "text/plain": [
       "'Denominator has a value of zero.It results to undefined number.'"
      ]
     },
     "execution_count": 140,
     "metadata": {},
     "output_type": "execute_result"
    }
   ],
   "source": [
    "def MAPE(y_hat,y):\n",
    "    result = 1/n*(np.sum(np.abs((y_hat-y)/y)))\n",
    "    #Created an if-else statement to check whether the value is undefine or not.\n",
    "    if result == float(inf) or result == float(-inf):     \n",
    "        result = \"Denominator has a value of zero.It results to undefined number.\"\n",
    "    return(result)\n",
    "MAPE(y_hat,y)"
   ]
  },
  {
   "cell_type": "markdown",
   "id": "76ede368",
   "metadata": {},
   "source": [
    "Part 2:</br>\n",
    "Create a 1d array M {1, 2, …16} using the arange function"
   ]
  },
  {
   "cell_type": "code",
   "execution_count": 39,
   "id": "f1ad8f25",
   "metadata": {},
   "outputs": [
    {
     "data": {
      "text/plain": [
       "array([ 1,  2,  3,  4,  5,  6,  7,  8,  9, 10, 11, 12, 13, 14, 15, 16])"
      ]
     },
     "execution_count": 39,
     "metadata": {},
     "output_type": "execute_result"
    }
   ],
   "source": [
    "M = np.arange(1,17)   #element started from 1 and ends with 17 given that the last number does not included\n",
    "M"
   ]
  },
  {
   "cell_type": "markdown",
   "id": "91709c74",
   "metadata": {},
   "source": [
    "* Reshape M into 4x4 array and store it to N"
   ]
  },
  {
   "cell_type": "code",
   "execution_count": 84,
   "id": "799afb72",
   "metadata": {},
   "outputs": [
    {
     "data": {
      "text/plain": [
       "array([[ 1,  2,  3,  4],\n",
       "       [ 5,  6,  7,  8],\n",
       "       [ 9, 10, 11, 12],\n",
       "       [13, 14, 15, 16]])"
      ]
     },
     "execution_count": 84,
     "metadata": {},
     "output_type": "execute_result"
    }
   ],
   "source": [
    "N = M.reshape(4,4)   #reshaping 1D array into a 4x4 array\n",
    "N"
   ]
  },
  {
   "cell_type": "markdown",
   "id": "39c1aa7e",
   "metadata": {},
   "source": [
    "* Get the 2nd row of N"
   ]
  },
  {
   "cell_type": "code",
   "execution_count": 102,
   "id": "e4c4725e",
   "metadata": {},
   "outputs": [
    {
     "data": {
      "text/plain": [
       "array([5, 6, 7, 8])"
      ]
     },
     "execution_count": 102,
     "metadata": {},
     "output_type": "execute_result"
    }
   ],
   "source": [
    "N[1,:]  #second row can be found in index 1"
   ]
  },
  {
   "cell_type": "markdown",
   "id": "66056120",
   "metadata": {},
   "source": [
    "* Get the minimum values for each column of N"
   ]
  },
  {
   "cell_type": "code",
   "execution_count": 103,
   "id": "31afac13",
   "metadata": {},
   "outputs": [
    {
     "data": {
      "text/plain": [
       "array([1, 2, 3, 4])"
      ]
     },
     "execution_count": 103,
     "metadata": {},
     "output_type": "execute_result"
    }
   ],
   "source": [
    "np.min(N, axis= 0)   #min can be found in 0"
   ]
  },
  {
   "cell_type": "markdown",
   "id": "d750eeae",
   "metadata": {},
   "source": [
    "* Get the locations of the minimum values for each column of N"
   ]
  },
  {
   "cell_type": "code",
   "execution_count": 91,
   "id": "1bb8fe0e",
   "metadata": {},
   "outputs": [
    {
     "name": "stdout",
     "output_type": "stream",
     "text": [
      "[0 0 0 0]\n"
     ]
    }
   ],
   "source": [
    "val_index= np.argmin(N, axis = 0)    #getting the index of the min values in column n\n",
    "\"\"\"the np.argmin includes the data type of the elements when printing, hence\n",
    "using for loop to print the indexes save in variable val_index\"\"\"\n",
    "for index in val_index:\n",
    "    print(val_index)\n",
    "    break"
   ]
  },
  {
   "cell_type": "markdown",
   "id": "65f756dd",
   "metadata": {},
   "source": [
    "* Get the average of the whole matrix"
   ]
  },
  {
   "cell_type": "code",
   "execution_count": 80,
   "id": "7f9dca18",
   "metadata": {},
   "outputs": [
    {
     "data": {
      "text/plain": [
       "8.5"
      ]
     },
     "execution_count": 80,
     "metadata": {},
     "output_type": "execute_result"
    }
   ],
   "source": [
    "np.mean(N) #getting the mean of the whole 4x4 array"
   ]
  },
  {
   "cell_type": "markdown",
   "id": "a111918d",
   "metadata": {},
   "source": [
    "* Create a vector V with 4 elements, each element is 1"
   ]
  },
  {
   "cell_type": "code",
   "execution_count": 86,
   "id": "24c7a6fe",
   "metadata": {},
   "outputs": [
    {
     "data": {
      "text/plain": [
       "array([1, 1, 1, 1])"
      ]
     },
     "execution_count": 86,
     "metadata": {},
     "output_type": "execute_result"
    }
   ],
   "source": [
    "V = np.ones((4), dtype = 'int32') #creating vector named V\n",
    "V"
   ]
  },
  {
   "cell_type": "markdown",
   "id": "17532002",
   "metadata": {},
   "source": [
    "* Take the dot product of N and V"
   ]
  },
  {
   "cell_type": "code",
   "execution_count": 87,
   "id": "370e0981",
   "metadata": {},
   "outputs": [
    {
     "data": {
      "text/plain": [
       "array([10, 26, 42, 58])"
      ]
     },
     "execution_count": 87,
     "metadata": {},
     "output_type": "execute_result"
    }
   ],
   "source": [
    "np.dot(N,V) #gettin the dot product of N and V using numpy library"
   ]
  },
  {
   "cell_type": "code",
   "execution_count": null,
   "id": "fd9da344",
   "metadata": {},
   "outputs": [],
   "source": []
  }
 ],
 "metadata": {
  "kernelspec": {
   "display_name": "Python 3 (ipykernel)",
   "language": "python",
   "name": "python3"
  },
  "language_info": {
   "codemirror_mode": {
    "name": "ipython",
    "version": 3
   },
   "file_extension": ".py",
   "mimetype": "text/x-python",
   "name": "python",
   "nbconvert_exporter": "python",
   "pygments_lexer": "ipython3",
   "version": "3.9.7"
  }
 },
 "nbformat": 4,
 "nbformat_minor": 5
}
